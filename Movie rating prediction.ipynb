{
 "cells": [
  {
   "cell_type": "markdown",
   "id": "382bbf2b-6231-4a85-9573-8a6655fcdf53",
   "metadata": {},
   "source": [
    "# Import the basic libraries\n",
    "import pandas as pd\n",
    "import numpy as np\n",
    "import matplotlib.pyplot as plt\n",
    "%matplotlib inline"
   ]
  },
  {
   "cell_type": "code",
   "execution_count": 1,
   "id": "91d51fd1-5326-472a-9294-77ab9a879785",
   "metadata": {},
   "outputs": [
    {
     "data": {
      "text/html": [
       "<div>\n",
       "<style scoped>\n",
       "    .dataframe tbody tr th:only-of-type {\n",
       "        vertical-align: middle;\n",
       "    }\n",
       "\n",
       "    .dataframe tbody tr th {\n",
       "        vertical-align: top;\n",
       "    }\n",
       "\n",
       "    .dataframe thead th {\n",
       "        text-align: right;\n",
       "    }\n",
       "</style>\n",
       "<table border=\"1\" class=\"dataframe\">\n",
       "  <thead>\n",
       "    <tr style=\"text-align: right;\">\n",
       "      <th></th>\n",
       "      <th>Name</th>\n",
       "      <th>Year</th>\n",
       "      <th>Duration</th>\n",
       "      <th>Genre</th>\n",
       "      <th>Rating</th>\n",
       "      <th>Votes</th>\n",
       "      <th>Director</th>\n",
       "      <th>Actor 1</th>\n",
       "      <th>Actor 2</th>\n",
       "      <th>Actor 3</th>\n",
       "    </tr>\n",
       "  </thead>\n",
       "  <tbody>\n",
       "    <tr>\n",
       "      <th>0</th>\n",
       "      <td></td>\n",
       "      <td>NaN</td>\n",
       "      <td>NaN</td>\n",
       "      <td>Drama</td>\n",
       "      <td>NaN</td>\n",
       "      <td>NaN</td>\n",
       "      <td>J.S. Randhawa</td>\n",
       "      <td>Manmauji</td>\n",
       "      <td>Birbal</td>\n",
       "      <td>Rajendra Bhatia</td>\n",
       "    </tr>\n",
       "    <tr>\n",
       "      <th>1</th>\n",
       "      <td>#Gadhvi (He thought he was Gandhi)</td>\n",
       "      <td>(2019)</td>\n",
       "      <td>109 min</td>\n",
       "      <td>Drama</td>\n",
       "      <td>7.0</td>\n",
       "      <td>8</td>\n",
       "      <td>Gaurav Bakshi</td>\n",
       "      <td>Rasika Dugal</td>\n",
       "      <td>Vivek Ghamande</td>\n",
       "      <td>Arvind Jangid</td>\n",
       "    </tr>\n",
       "    <tr>\n",
       "      <th>2</th>\n",
       "      <td>#Homecoming</td>\n",
       "      <td>(2021)</td>\n",
       "      <td>90 min</td>\n",
       "      <td>Drama, Musical</td>\n",
       "      <td>NaN</td>\n",
       "      <td>NaN</td>\n",
       "      <td>Soumyajit Majumdar</td>\n",
       "      <td>Sayani Gupta</td>\n",
       "      <td>Plabita Borthakur</td>\n",
       "      <td>Roy Angana</td>\n",
       "    </tr>\n",
       "    <tr>\n",
       "      <th>3</th>\n",
       "      <td>#Yaaram</td>\n",
       "      <td>(2019)</td>\n",
       "      <td>110 min</td>\n",
       "      <td>Comedy, Romance</td>\n",
       "      <td>4.4</td>\n",
       "      <td>35</td>\n",
       "      <td>Ovais Khan</td>\n",
       "      <td>Prateik</td>\n",
       "      <td>Ishita Raj</td>\n",
       "      <td>Siddhant Kapoor</td>\n",
       "    </tr>\n",
       "    <tr>\n",
       "      <th>4</th>\n",
       "      <td>...And Once Again</td>\n",
       "      <td>(2010)</td>\n",
       "      <td>105 min</td>\n",
       "      <td>Drama</td>\n",
       "      <td>NaN</td>\n",
       "      <td>NaN</td>\n",
       "      <td>Amol Palekar</td>\n",
       "      <td>Rajat Kapoor</td>\n",
       "      <td>Rituparna Sengupta</td>\n",
       "      <td>Antara Mali</td>\n",
       "    </tr>\n",
       "    <tr>\n",
       "      <th>...</th>\n",
       "      <td>...</td>\n",
       "      <td>...</td>\n",
       "      <td>...</td>\n",
       "      <td>...</td>\n",
       "      <td>...</td>\n",
       "      <td>...</td>\n",
       "      <td>...</td>\n",
       "      <td>...</td>\n",
       "      <td>...</td>\n",
       "      <td>...</td>\n",
       "    </tr>\n",
       "    <tr>\n",
       "      <th>15504</th>\n",
       "      <td>Zulm Ko Jala Doonga</td>\n",
       "      <td>(1988)</td>\n",
       "      <td>NaN</td>\n",
       "      <td>Action</td>\n",
       "      <td>4.6</td>\n",
       "      <td>11</td>\n",
       "      <td>Mahendra Shah</td>\n",
       "      <td>Naseeruddin Shah</td>\n",
       "      <td>Sumeet Saigal</td>\n",
       "      <td>Suparna Anand</td>\n",
       "    </tr>\n",
       "    <tr>\n",
       "      <th>15505</th>\n",
       "      <td>Zulmi</td>\n",
       "      <td>(1999)</td>\n",
       "      <td>129 min</td>\n",
       "      <td>Action, Drama</td>\n",
       "      <td>4.5</td>\n",
       "      <td>655</td>\n",
       "      <td>Kuku Kohli</td>\n",
       "      <td>Akshay Kumar</td>\n",
       "      <td>Twinkle Khanna</td>\n",
       "      <td>Aruna Irani</td>\n",
       "    </tr>\n",
       "    <tr>\n",
       "      <th>15506</th>\n",
       "      <td>Zulmi Raj</td>\n",
       "      <td>(2005)</td>\n",
       "      <td>NaN</td>\n",
       "      <td>Action</td>\n",
       "      <td>NaN</td>\n",
       "      <td>NaN</td>\n",
       "      <td>Kiran Thej</td>\n",
       "      <td>Sangeeta Tiwari</td>\n",
       "      <td>NaN</td>\n",
       "      <td>NaN</td>\n",
       "    </tr>\n",
       "    <tr>\n",
       "      <th>15507</th>\n",
       "      <td>Zulmi Shikari</td>\n",
       "      <td>(1988)</td>\n",
       "      <td>NaN</td>\n",
       "      <td>Action</td>\n",
       "      <td>NaN</td>\n",
       "      <td>NaN</td>\n",
       "      <td>NaN</td>\n",
       "      <td>NaN</td>\n",
       "      <td>NaN</td>\n",
       "      <td>NaN</td>\n",
       "    </tr>\n",
       "    <tr>\n",
       "      <th>15508</th>\n",
       "      <td>Zulm-O-Sitam</td>\n",
       "      <td>(1998)</td>\n",
       "      <td>130 min</td>\n",
       "      <td>Action, Drama</td>\n",
       "      <td>6.2</td>\n",
       "      <td>20</td>\n",
       "      <td>K.C. Bokadia</td>\n",
       "      <td>Dharmendra</td>\n",
       "      <td>Jaya Prada</td>\n",
       "      <td>Arjun Sarja</td>\n",
       "    </tr>\n",
       "  </tbody>\n",
       "</table>\n",
       "<p>15509 rows × 10 columns</p>\n",
       "</div>"
      ],
      "text/plain": [
       "                                     Name    Year Duration            Genre  \\\n",
       "0                                             NaN      NaN            Drama   \n",
       "1      #Gadhvi (He thought he was Gandhi)  (2019)  109 min            Drama   \n",
       "2                             #Homecoming  (2021)   90 min   Drama, Musical   \n",
       "3                                 #Yaaram  (2019)  110 min  Comedy, Romance   \n",
       "4                       ...And Once Again  (2010)  105 min            Drama   \n",
       "...                                   ...     ...      ...              ...   \n",
       "15504                 Zulm Ko Jala Doonga  (1988)      NaN           Action   \n",
       "15505                               Zulmi  (1999)  129 min    Action, Drama   \n",
       "15506                           Zulmi Raj  (2005)      NaN           Action   \n",
       "15507                       Zulmi Shikari  (1988)      NaN           Action   \n",
       "15508                        Zulm-O-Sitam  (1998)  130 min    Action, Drama   \n",
       "\n",
       "       Rating Votes            Director           Actor 1             Actor 2  \\\n",
       "0         NaN   NaN       J.S. Randhawa          Manmauji              Birbal   \n",
       "1         7.0     8       Gaurav Bakshi      Rasika Dugal      Vivek Ghamande   \n",
       "2         NaN   NaN  Soumyajit Majumdar      Sayani Gupta   Plabita Borthakur   \n",
       "3         4.4    35          Ovais Khan           Prateik          Ishita Raj   \n",
       "4         NaN   NaN        Amol Palekar      Rajat Kapoor  Rituparna Sengupta   \n",
       "...       ...   ...                 ...               ...                 ...   \n",
       "15504     4.6    11       Mahendra Shah  Naseeruddin Shah       Sumeet Saigal   \n",
       "15505     4.5   655          Kuku Kohli      Akshay Kumar      Twinkle Khanna   \n",
       "15506     NaN   NaN          Kiran Thej   Sangeeta Tiwari                 NaN   \n",
       "15507     NaN   NaN                 NaN               NaN                 NaN   \n",
       "15508     6.2    20        K.C. Bokadia        Dharmendra          Jaya Prada   \n",
       "\n",
       "               Actor 3  \n",
       "0      Rajendra Bhatia  \n",
       "1        Arvind Jangid  \n",
       "2           Roy Angana  \n",
       "3      Siddhant Kapoor  \n",
       "4          Antara Mali  \n",
       "...                ...  \n",
       "15504    Suparna Anand  \n",
       "15505      Aruna Irani  \n",
       "15506              NaN  \n",
       "15507              NaN  \n",
       "15508      Arjun Sarja  \n",
       "\n",
       "[15509 rows x 10 columns]"
      ]
     },
     "execution_count": 1,
     "metadata": {},
     "output_type": "execute_result"
    }
   ],
   "source": [
    "# Get the data ready\n",
    "import pandas as pd\n",
    "# Display the first few rows\n",
    "df = pd.read_csv('Resources/IMDb Movies India.csv', encoding='latin1')\n",
    "df"
   ]
  },
  {
   "cell_type": "code",
   "execution_count": 2,
   "id": "ae8bb2d4-f09c-429d-a6da-46cacd562ae8",
   "metadata": {},
   "outputs": [
    {
     "name": "stdout",
     "output_type": "stream",
     "text": [
      "Name           0\n",
      "Year         528\n",
      "Duration    8269\n",
      "Genre       1877\n",
      "Rating      7590\n",
      "Votes       7589\n",
      "Director     525\n",
      "Actor 1     1617\n",
      "Actor 2     2384\n",
      "Actor 3     3144\n",
      "dtype: int64\n"
     ]
    }
   ],
   "source": [
    "# Check for missing values\n",
    "print(df.isna().sum())"
   ]
  },
  {
   "cell_type": "code",
   "execution_count": 3,
   "id": "ff9805dd-c886-44ce-8e39-78c9966164aa",
   "metadata": {},
   "outputs": [
    {
     "name": "stdout",
     "output_type": "stream",
     "text": [
      "Name         object\n",
      "Year         object\n",
      "Duration     object\n",
      "Genre        object\n",
      "Rating      float64\n",
      "Votes        object\n",
      "Director     object\n",
      "Actor 1      object\n",
      "Actor 2      object\n",
      "Actor 3      object\n",
      "dtype: object\n"
     ]
    }
   ],
   "source": [
    "print(df.dtypes)"
   ]
  },
  {
   "cell_type": "code",
   "execution_count": 4,
   "id": "83b137fa-870a-4c66-bb81-1e2fad3cf647",
   "metadata": {},
   "outputs": [
    {
     "data": {
      "image/png": "[encoded data removed]",
      "text/plain": [
       "<Figure size 1000x600 with 1 Axes>"
      ]
     },
     "metadata": {},
     "output_type": "display_data"
    }
   ],
   "source": [
    "# Visualize the data\n",
    "import seaborn as sns\n",
    "import matplotlib.pyplot as plt\n",
    "\n",
    "plt.figure(figsize=(10, 6))\n",
    "sns.histplot(df['Rating'], bins=30, kde=True)\n",
    "plt.title('Distribution of Movie Ratings')\n",
    "plt.xlabel('Rating')\n",
    "plt.ylabel('Frequency')\n",
    "plt.show()"
   ]
  },
  {
   "cell_type": "code",
   "execution_count": 5,
   "id": "cb2bfc44-c2da-49d5-be91-4d6bb0e38ab6",
   "metadata": {},
   "outputs": [
    {
     "data": {
      "text/plain": [
       "Director\n",
       "A B Arjun              NaN\n",
       "A. Bhimsingh      6.776471\n",
       "A. Habib               NaN\n",
       "A. Jagannathan    5.833333\n",
       "A. Karim               NaN\n",
       "Name: Rating, dtype: float64"
      ]
     },
     "execution_count": 5,
     "metadata": {},
     "output_type": "execute_result"
    }
   ],
   "source": [
    "df2=df.groupby('Director')['Rating'].mean()\n",
    "df2.head()"
   ]
  },
  {
   "cell_type": "code",
   "execution_count": 6,
   "id": "f20ebb91-2621-40e5-9c4e-58285e8f95e2",
   "metadata": {},
   "outputs": [
    {
     "data": {
      "text/html": [
       "<div>\n",
       "<style scoped>\n",
       "    .dataframe tbody tr th:only-of-type {\n",
       "        vertical-align: middle;\n",
       "    }\n",
       "\n",
       "    .dataframe tbody tr th {\n",
       "        vertical-align: top;\n",
       "    }\n",
       "\n",
       "    .dataframe thead th {\n",
       "        text-align: right;\n",
       "    }\n",
       "</style>\n",
       "<table border=\"1\" class=\"dataframe\">\n",
       "  <thead>\n",
       "    <tr style=\"text-align: right;\">\n",
       "      <th></th>\n",
       "      <th>Name</th>\n",
       "      <th>Rating</th>\n",
       "      <th>Votes</th>\n",
       "      <th>Director</th>\n",
       "    </tr>\n",
       "  </thead>\n",
       "  <tbody>\n",
       "    <tr>\n",
       "      <th>0</th>\n",
       "      <td></td>\n",
       "      <td>NaN</td>\n",
       "      <td>NaN</td>\n",
       "      <td>J.S. Randhawa</td>\n",
       "    </tr>\n",
       "    <tr>\n",
       "      <th>1</th>\n",
       "      <td>#Gadhvi (He thought he was Gandhi)</td>\n",
       "      <td>7.0</td>\n",
       "      <td>8</td>\n",
       "      <td>Gaurav Bakshi</td>\n",
       "    </tr>\n",
       "    <tr>\n",
       "      <th>2</th>\n",
       "      <td>#Homecoming</td>\n",
       "      <td>NaN</td>\n",
       "      <td>NaN</td>\n",
       "      <td>Soumyajit Majumdar</td>\n",
       "    </tr>\n",
       "    <tr>\n",
       "      <th>3</th>\n",
       "      <td>#Yaaram</td>\n",
       "      <td>4.4</td>\n",
       "      <td>35</td>\n",
       "      <td>Ovais Khan</td>\n",
       "    </tr>\n",
       "    <tr>\n",
       "      <th>4</th>\n",
       "      <td>...And Once Again</td>\n",
       "      <td>NaN</td>\n",
       "      <td>NaN</td>\n",
       "      <td>Amol Palekar</td>\n",
       "    </tr>\n",
       "  </tbody>\n",
       "</table>\n",
       "</div>"
      ],
      "text/plain": [
       "                                 Name  Rating Votes            Director\n",
       "0                                         NaN   NaN       J.S. Randhawa\n",
       "1  #Gadhvi (He thought he was Gandhi)     7.0     8       Gaurav Bakshi\n",
       "2                         #Homecoming     NaN   NaN  Soumyajit Majumdar\n",
       "3                             #Yaaram     4.4    35          Ovais Khan\n",
       "4                   ...And Once Again     NaN   NaN        Amol Palekar"
      ]
     },
     "execution_count": 6,
     "metadata": {},
     "output_type": "execute_result"
    }
   ],
   "source": [
    "drop_df=df.drop(['Year', 'Duration', 'Genre','Actor 1','Actor 2','Actor 3'],axis=1)\n",
    "drop_df.head()"
   ]
  },
  {
   "cell_type": "code",
   "execution_count": 8,
   "id": "68a421d7-b064-4e1f-b480-2154cfab13c1",
   "metadata": {},
   "outputs": [
    {
     "ename": "TypeError",
     "evalue": "'set' object is not subscriptable",
     "output_type": "error",
     "traceback": [
      "\u001b[0;31m---------------------------------------------------------------------------\u001b[0m",
      "\u001b[0;31mTypeError\u001b[0m                                 Traceback (most recent call last)",
      "Cell \u001b[0;32mIn[8], line 10\u001b[0m\n\u001b[1;32m      7\u001b[0m df \u001b[38;5;241m=\u001b[39m pd\u001b[38;5;241m.\u001b[39mDataFrame(drop_df)\n\u001b[1;32m      9\u001b[0m \u001b[38;5;66;03m# Convert 'Votes' to numeric\u001b[39;00m\n\u001b[0;32m---> 10\u001b[0m drop_df[\u001b[38;5;124m'\u001b[39m\u001b[38;5;124mVotes\u001b[39m\u001b[38;5;124m'\u001b[39m] \u001b[38;5;241m=\u001b[39m pd\u001b[38;5;241m.\u001b[39mto_numeric(\u001b[43mdrop_df\u001b[49m\u001b[43m[\u001b[49m\u001b[38;5;124;43m'\u001b[39;49m\u001b[38;5;124;43mVotes\u001b[39;49m\u001b[38;5;124;43m'\u001b[39;49m\u001b[43m]\u001b[49m)\n\u001b[1;32m     12\u001b[0m \u001b[38;5;66;03m# Define the ColumnTransformer with OneHotEncoder for 'Name' and 'Director'\u001b[39;00m\n\u001b[1;32m     13\u001b[0m preprocessor \u001b[38;5;241m=\u001b[39m ColumnTransformer(\n\u001b[1;32m     14\u001b[0m     transformers\u001b[38;5;241m=\u001b[39m[\n\u001b[1;32m     15\u001b[0m         (\u001b[38;5;124m'\u001b[39m\u001b[38;5;124mname\u001b[39m\u001b[38;5;124m'\u001b[39m, OneHotEncoder(), [\u001b[38;5;124m'\u001b[39m\u001b[38;5;124mName\u001b[39m\u001b[38;5;124m'\u001b[39m]),\n\u001b[0;32m   (...)\u001b[0m\n\u001b[1;32m     18\u001b[0m     remainder\u001b[38;5;241m=\u001b[39m\u001b[38;5;124m'\u001b[39m\u001b[38;5;124mpassthrough\u001b[39m\u001b[38;5;124m'\u001b[39m  \u001b[38;5;66;03m# Keep 'Rating' and 'Votes' columns unchanged\u001b[39;00m\n\u001b[1;32m     19\u001b[0m )\n",
      "\u001b[0;31mTypeError\u001b[0m: 'set' object is not subscriptable"
     ]
    }
   ],
   "source": [
    "import pandas as pd\n",
    "from sklearn.preprocessing import OneHotEncoder\n",
    "from sklearn.compose import ColumnTransformer\n",
    "\n",
    "# Sample DataFrame\n",
    "drop_df= {'Name','Rating','Votes','Director'}\n",
    "df = pd.DataFrame(drop_df)\n",
    "\n",
    "# Convert 'Votes' to numeric\n",
    "drop_df['Votes'] = pd.to_numeric(drop_df['Votes'])\n",
    "\n",
    "# Define the ColumnTransformer with OneHotEncoder for 'Name' and 'Director'\n",
    "preprocessor = ColumnTransformer(\n",
    "    transformers=[\n",
    "        ('name', OneHotEncoder(), ['Name']),\n",
    "        ('director', OneHotEncoder(), ['Director'])\n",
    "    ],\n",
    "    remainder='passthrough'  # Keep 'Rating' and 'Votes' columns unchanged\n",
    ")\n",
    "\n",
    "# Apply the transformer\n",
    "df_transformed = preprocessor.fit_transform(df)\n",
    "\n",
    "# Convert the result back to a DataFrame\n",
    "df_transformed = pd.DataFrame(df_transformed, columns=preprocessor.get_feature_names_out())\n",
    "\n",
    "print(df_transformed)"
   ]
  },
  {
   "cell_type": "code",
   "execution_count": null,
   "id": "9da2d972-8a8a-421a-b8d0-947c28b59c8d",
   "metadata": {},
   "outputs": [],
   "source": [
    "dummies = pd.get_dummies(drop_df[['Rating','Votes','Director']])\n",
    "dummies"
   ]
  },
  {
   "cell_type": "code",
   "execution_count": null,
   "id": "2deb844b-a4bb-4cd5-a2be-8a624fa2f2a2",
   "metadata": {},
   "outputs": [],
   "source": []
  },
  {
   "cell_type": "code",
   "execution_count": null,
   "id": "22ee3c0f-ca97-4e8a-a0be-7ad38bd90e7b",
   "metadata": {},
   "outputs": [],
   "source": []
  },
  {
   "cell_type": "code",
   "execution_count": null,
   "id": "70c5d7a0-0f5d-439e-80e9-d24c8863ed36",
   "metadata": {},
   "outputs": [],
   "source": []
  },
  {
   "cell_type": "code",
   "execution_count": null,
   "id": "65af947f-434b-4d87-a33c-37ddf5e4a27c",
   "metadata": {},
   "outputs": [],
   "source": [
    "fill_df=drop_df.fillna(0)\n",
    "fill_df.head()"
   ]
  },
  {
   "cell_type": "code",
   "execution_count": null,
   "id": "a413e859-f701-47e2-a2f0-4958e2a0c184",
   "metadata": {},
   "outputs": [],
   "source": [
    "import pandas as pd\n",
    "from sklearn.preprocessing import OneHotEncoder\n",
    "from sklearn.compose import ColumnTransformer\n",
    "\n",
    "# Sample DataFrame\n",
    "fill_df = {\n",
    "    'Name',\n",
    "    'Rating',\n",
    "    'Votes',\n",
    "    'Director'\n",
    "}\n",
    "df = pd.DataFrame(fill_df)\n",
    "\n",
    "# Convert 'Votes' to numeric\n",
    "df['Votes'] = pd.to_numeric(df['Votes'])\n",
    "\n",
    "# Define the ColumnTransformer with OneHotEncoder for 'Name' and 'Director'\n",
    "preprocessor = ColumnTransformer(\n",
    "    transformers=[\n",
    "        ('name', OneHotEncoder(), ['Name']),\n",
    "        ('director', OneHotEncoder(), ['Director'])\n",
    "    ],\n",
    "    remainder='passthrough'  # Keep 'Rating' and 'Votes' columns unchanged\n",
    ")\n",
    "\n",
    "# Apply the transformer\n",
    "df_transformed = preprocessor.fit_transform(df)\n",
    "\n",
    "# Convert the result back to a DataFrame\n",
    "df_transformed = pd.DataFrame(df_transformed, columns=preprocessor.get_feature_names_out())\n",
    "\n",
    "print(df_transformed)"
   ]
  },
  {
   "cell_type": "code",
   "execution_count": null,
   "id": "4a1f8c9f-9e2b-49f2-a2e1-8038388d40cb",
   "metadata": {},
   "outputs": [],
   "source": [
    "df_cat=fill_df.select_dtypes(exclude=['float64'])\n",
    "df_cat"
   ]
  },
  {
   "cell_type": "code",
   "execution_count": null,
   "id": "6a5e91d6-c6d0-4577-9d92-d318f2a9d5ed",
   "metadata": {},
   "outputs": [],
   "source": [
    "df_cat.columns"
   ]
  },
  {
   "cell_type": "code",
   "execution_count": null,
   "id": "40d529b1-0120-4238-82fb-c761a3c33dc1",
   "metadata": {},
   "outputs": [],
   "source": [
    "import warnings\n",
    "warnings. filterwarnings('ignore')\n",
    "df_cat=pd.get_dummies(df_cat, columns=['Name', 'Votes', 'Director'], drop_first=True)"
   ]
  },
  {
   "cell_type": "code",
   "execution_count": null,
   "id": "14535100-ec23-4974-8005-5bf904cea658",
   "metadata": {},
   "outputs": [],
   "source": [
    "df_cat.head()"
   ]
  },
  {
   "cell_type": "code",
   "execution_count": null,
   "id": "86feceec-23a6-4672-8805-263a825e1fba",
   "metadata": {},
   "outputs": [],
   "source": [
    "drop_df.head()"
   ]
  },
  {
   "cell_type": "code",
   "execution_count": null,
   "id": "041e0513-a127-4198-853e-a110753b32d8",
   "metadata": {},
   "outputs": [],
   "source": [
    "cols=list(df_cat.columns)\n",
    "def cat_2_num(cols) :\n",
    "    for col in cols:\n",
    "        df_cat[col]=pd.get_dummies(df_cat[col], drop_first=True)\n",
    "cat_2_num(cols)"
   ]
  },
  {
   "cell_type": "code",
   "execution_count": null,
   "id": "29711870-7887-42e1-bcd9-eda35593b10e",
   "metadata": {},
   "outputs": [],
   "source": [
    "df_cat.describe()"
   ]
  },
  {
   "cell_type": "code",
   "execution_count": null,
   "id": "271544a9-1b36-4246-a95a-29aaf4c8f0fe",
   "metadata": {},
   "outputs": [],
   "source": [
    "from sklearn.model_selection import train_test_split\n",
    "import numpy as np\n",
    "from sklearn.linear_model import LinearRegression \n",
    "\n",
    "# Split into X/Y\n",
    "x = df_cat.drop('Votes', axis=1)\n",
    "y = df_cat['Votes']\n",
    "\n",
    "# Split into training and test\n",
    "x_train, x_test, y_train, y_test = train_test_split(x,\n",
    "                                                   y,\n",
    "                                                   test_size=0.2, random_state=42)\n",
    "model = LinearRegression()\n",
    "\n",
    "# Let's refit the model\n",
    "np.random.seed(42)\n",
    "model.fit(x_train, y_train)\n",
    "\n",
    "model.score(x_test, y_test)"
   ]
  },
  {
   "cell_type": "code",
   "execution_count": null,
   "id": "0a902185-462d-4709-95be-eb1792cb228e",
   "metadata": {},
   "outputs": [],
   "source": []
  },
  {
   "cell_type": "code",
   "execution_count": null,
   "id": "debfdc0b-22d7-45d7-b871-af151b71d7f7",
   "metadata": {},
   "outputs": [],
   "source": []
  },
  {
   "cell_type": "code",
   "execution_count": null,
   "id": "7e0cc2f8-5e29-4432-bd39-5344eff209c2",
   "metadata": {},
   "outputs": [],
   "source": []
  },
  {
   "cell_type": "code",
   "execution_count": null,
   "id": "0b276468-f88a-4237-8ed1-c07128f0b913",
   "metadata": {},
   "outputs": [],
   "source": []
  },
  {
   "cell_type": "code",
   "execution_count": null,
   "id": "4b5bae21-7114-4feb-b49d-2fce376dc7f0",
   "metadata": {},
   "outputs": [],
   "source": []
  },
  {
   "cell_type": "code",
   "execution_count": null,
   "id": "3fe50184-a029-4835-b03a-364f25e13b44",
   "metadata": {},
   "outputs": [],
   "source": []
  },
  {
   "cell_type": "code",
   "execution_count": null,
   "id": "0010d9be-f89b-4350-bf49-96638c958153",
   "metadata": {},
   "outputs": [],
   "source": []
  },
  {
   "cell_type": "code",
   "execution_count": null,
   "id": "d4f53bac-4bdc-48c3-a440-0964424c4d11",
   "metadata": {},
   "outputs": [],
   "source": []
  },
  {
   "cell_type": "code",
   "execution_count": null,
   "id": "8806ce08-e89c-4133-9743-8681837f9ec2",
   "metadata": {},
   "outputs": [],
   "source": [
    "#To fix UnicodeDecodeError: 'utf-8' codec can't decode byte 0xe1 in position 76763: invalid continuation byte, chardet library is used and the result dictionary will contain the detected encoding, which then used in the pd.read_csv function.\n",
    "import chardet\n",
    "\n",
    "# Detect the encoding\n",
    "with open('Resources/IMDb Movies India.csv', 'rb') as file:\n",
    "    result = chardet.detect(file.read())\n",
    "\n",
    "print(result)\n"
   ]
  },
  {
   "cell_type": "code",
   "execution_count": null,
   "id": "6c70ac15-fbb9-458f-99d0-103b42abcc6a",
   "metadata": {},
   "outputs": [],
   "source": [
    "# Get the data ready\n",
    "import pandas as pd\n",
    "encoding = result['encoding']\n",
    "movie_data = pd.read_csv('Resources/IMDb Movies India.csv', encoding=encoding)\n",
    "# Display the first few rows\n",
    "movie_data"
   ]
  },
  {
   "cell_type": "code",
   "execution_count": null,
   "id": "cf7682ca-5454-426a-907c-3a6ad29ffb2a",
   "metadata": {},
   "outputs": [],
   "source": [
    "# Check for missing values\n",
    "print(movie_data.isna().sum())"
   ]
  },
  {
   "cell_type": "code",
   "execution_count": null,
   "id": "9627b3cf-263f-49e3-9ac4-b6ea8680b9d0",
   "metadata": {},
   "outputs": [],
   "source": [
    "print(movie_data.dtypes)"
   ]
  },
  {
   "cell_type": "code",
   "execution_count": null,
   "id": "72c76c35-c413-4cd7-a250-1aca1b8c435a",
   "metadata": {},
   "outputs": [],
   "source": [
    "# Visualize the data\n",
    "import seaborn as sns\n",
    "import matplotlib.pyplot as plt\n",
    "\n",
    "plt.figure(figsize=(10, 6))\n",
    "sns.histplot(movie_data['Rating'], bins=30, kde=True)\n",
    "plt.title('Distribution of Movie Ratings')\n",
    "plt.xlabel('Rating')\n",
    "plt.ylabel('Frequency')\n",
    "plt.show()"
   ]
  },
  {
   "cell_type": "code",
   "execution_count": null,
   "id": "9faf5550-1ff6-4a09-a606-abfb09ccbd97",
   "metadata": {},
   "outputs": [],
   "source": [
    "# Turn the categories into numbers\n",
    "from sklearn.preprocessing import OneHotEncoder\n",
    "from sklearn.compose import ColumnTransformer\n",
    "\n",
    "# 4. Data Type Conversion\n",
    "# Dropping Name column because it doesn't impact the outcome\n",
    "movie_data.drop('Name',axis = 1)\n",
    "movie_data.drop('Year',axis = 1)\n",
    "movie_data.drop('Duration',axis = 1)\n",
    "\n",
    "categorical_features = ['Genre', 'Director', 'Actor 1', 'Actor 2', 'Actor 3']\n",
    "one_hot = OneHotEncoder(handle_unknown='ignore')\n",
    "transformer = ColumnTransformer(transformers=[('one_hot',\n",
    "                                               one_hot,\n",
    "                                               categorical_features)],\n",
    "                                               remainder='passthrough')\n",
    "movie_data_transformed = transformer.fit_transform(movie_data)\n"
   ]
  },
  {
   "cell_type": "code",
   "execution_count": null,
   "id": "1ed241f7-53a6-4be3-bf89-3a2b984c6d88",
   "metadata": {},
   "outputs": [],
   "source": [
    "movies_data = movie_data.fillna(value = movie_data['Genre', 'Director', 'Actor 1', 'Actor 2', 'Actor 3'].mean())\n",
    "\n",
    "print(movies_data.isnull().sum())"
   ]
  },
  {
   "cell_type": "code",
   "execution_count": null,
   "id": "f93a4bcd-f8c2-4f16-aff7-f894aff69d70",
   "metadata": {},
   "outputs": [],
   "source": [
    "\n",
    "# 4. Data Type Conversion\n",
    "# Dropping Name column because it doesn't impact the outcome\n",
    "movie_data.drop('Name',axis = 1)\n",
    "movie_data.drop('Year',axis = 1)\n",
    "movie_data.drop('Duration',axis = 1)\n",
    "\n",
    "# Grouping the columns with their average rating and then creating a new feature\n",
    "genre_mean_rating = movie_data.groupby ('Genre' )['Rating'].transform('mean')\n",
    "movie_data[ 'Genre_mean_rating'] = genre_mean_rating\n",
    "director_mean_rating = movie_data.groupby ('Director' )['Rating']. transform('mean' )\n",
    "movie_data[ 'Director_encoded'] = director_mean_rating\n",
    "actor1_mean_rating = movie_data.groupby ('Actor 1')[ 'Rating']. transform('mean')\n",
    "movie_data[ 'Actor1_encoded'] = actor1_mean_rating\n",
    "actor2_mean_rating = movie_data.groupby('Actor 2')['Rating']. transform('mean' )\n",
    "movie_data ['Actor2_encoded'] = actor2_mean_rating\n",
    "actor3_mean_rating = movie_data.groupby('Actor 3')['Rating']. transform('mean')\n",
    "movie_data['Actor3_encoded'] = actor3_mean_rating\n"
   ]
  },
  {
   "cell_type": "code",
   "execution_count": null,
   "id": "bebff3d1-a6f7-44c9-a6ef-f3b833ca6b07",
   "metadata": {},
   "outputs": [],
   "source": []
  },
  {
   "cell_type": "code",
   "execution_count": null,
   "id": "16cffb74-feae-4976-934b-81ba924dcc1a",
   "metadata": {},
   "outputs": [],
   "source": [
    "movie_data_cleaned = movie_data.copy()\n",
    "# Filling missing values using the assign method\n",
    "movie_data_cleaned = (movie_data_cleaned\n",
    "                      .assign(Year=movie_data_cleaned['Year'].fillna(movie_data_cleaned['Year'].mode()[0]))\n",
    "                      .assign(Duration=movie_data_cleaned['Duration'].fillna(movie_data_cleaned['Duration'].mode()[0]))\n",
    "                      .assign(Genre=movie_data_cleaned['Genre'].fillna(movie_data_cleaned['Genre'].mode()[0]))\n",
    "                      .assign(Rating=movie_data_cleaned['Rating'].fillna(movie_data_cleaned['Rating'].mean()))\n",
    "                      .assign(Votes=movie_data_cleaned['Votes'].fillna(movie_data_cleaned['Votes'].mode()[0]))\n",
    "                      .assign(Director=movie_data_cleaned['Director'].fillna(movie_data_cleaned['Director'].mode()[0]))\n",
    "                      .assign(Actor_1=movie_data_cleaned['Actor 1'].fillna(movie_data_cleaned['Actor 1'].mode()[0]))\n",
    "                      .assign(Actor_2=movie_data_cleaned['Actor 2'].fillna(movie_data_cleaned['Actor 2'].mode()[0]))\n",
    "                      .assign(Actor_3=movie_data_cleaned['Actor 3'].fillna(movie_data_cleaned['Actor 3'].mode()[0])))\n",
    "\n",
    "# Verifying missing values\n",
    "print(movie_data_cleaned.isnull().sum())\n"
   ]
  },
  {
   "cell_type": "code",
   "execution_count": null,
   "id": "78450a8a-c540-42f6-aa1f-7a5b4d16b5d3",
   "metadata": {},
   "outputs": [],
   "source": [
    "# One-hot encoding for categorical variables\n",
    "movie_data_encoded = pd.get_dummies(movie_data_cleaned, columns=['Genre', 'Director', 'Actor 1', 'Actor 2', 'Actor 3'])\n",
    "\n",
    "# Displaying the first few rows of the encoded dataset\n",
    "print(movie_data_encoded.head())\n"
   ]
  },
  {
   "cell_type": "code",
   "execution_count": null,
   "id": "90d832d5-e471-4623-932e-a8312530f242",
   "metadata": {},
   "outputs": [],
   "source": [
    "from sklearn.model_selection import train_test_split\n",
    "\n",
    "# Features and target variable\n",
    "X = movie_data_encoded.drop(['Name', 'Rating'], axis=1)\n",
    "y = movie_data_encoded['Rating']\n",
    "\n",
    "# Splitting the dataset into training and testing sets\n",
    "X_train, X_test, y_train, y_test = train_test_split(X, y, test_size=0.2, random_state=42)\n"
   ]
  },
  {
   "cell_type": "code",
   "execution_count": null,
   "id": "6e8826d8-68f0-4b54-ba89-e1b6d589bfe5",
   "metadata": {},
   "outputs": [],
   "source": [
    "from sklearn.linear_model import LinearRegression\n",
    "\n",
    "# Initializing the model\n",
    "model = LinearRegression()\n",
    "\n",
    "# Training the model\n",
    "model.fit(X_train, y_train)\n"
   ]
  },
  {
   "cell_type": "code",
   "execution_count": null,
   "id": "67b50304-deb1-40a4-bf35-d5d6757f3cd8",
   "metadata": {},
   "outputs": [],
   "source": []
  }
 ],
 "metadata": {
  "kernelspec": {
   "display_name": "Python 3 (ipykernel)",
   "language": "python",
   "name": "python3"
  },
  "language_info": {
   "codemirror_mode": {
    "name": "ipython",
    "version": 3
   },
   "file_extension": ".py",
   "mimetype": "text/x-python",
   "name": "python",
   "nbconvert_exporter": "python",
   "pygments_lexer": "ipython3",
   "version": "3.12.3"
  }
 },
 "nbformat": 4,
 "nbformat_minor": 5
}
