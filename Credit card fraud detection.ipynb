{
 "cells": [
  {
   "cell_type": "code",
   "execution_count": null,
   "id": "94f88a3b-1a0e-47bc-83ae-ca0e3ed9a9a9",
   "metadata": {},
   "outputs": [],
   "source": []
  }
 ],
 "metadata": {
  "kernelspec": {
   "display_name": "",
   "name": ""
  },
  "language_info": {
   "name": ""
  }
 },
 "nbformat": 4,
 "nbformat_minor": 5
}
